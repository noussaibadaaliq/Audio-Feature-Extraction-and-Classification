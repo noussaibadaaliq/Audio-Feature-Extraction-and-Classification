{
 "cells": [
  {
   "cell_type": "code",
   "execution_count": 2,
   "id": "c40aebb2",
   "metadata": {},
   "outputs": [],
   "source": [
    "import numpy as np \n",
    "import matplotlib.pyplot as plt\n",
    "import sys \n",
    "from scipy.io import wavfile\n",
    "import scipy.io\n",
    "import wave"
   ]
  },
  {
   "cell_type": "markdown",
   "id": "6779d87b",
   "metadata": {},
   "source": [
    "afficher un audio de dataset utiliser on appelons la fonction wav.read()"
   ]
  },
  {
   "cell_type": "markdown",
   "id": "83be06fe",
   "metadata": {},
   "source": [
    "la base de données avec lequel je travaille contient au total 60 audios (48 dédiés au train et 12 au test)\n",
    "note:J'ai essayé un autre base de données qui contient des classes (son de chien, son de chat, vagues de la mer ...) avec lequel j'ai trouvé des diffécultés. et pour cela je trouve à travailler avec une base de données d'audios normaux."
   ]
  },
  {
   "cell_type": "code",
   "execution_count": 4,
   "id": "8ef86f3e",
   "metadata": {},
   "outputs": [
    {
     "data": {
      "image/png": "[encoded data removed]",
      "text/plain": [
       "<Figure size 432x288 with 1 Axes>"
      ]
     },
     "metadata": {
      "needs_background": "light"
     },
     "output_type": "display_data"
    }
   ],
   "source": [
    "filename='train_data/'\n",
    "filename1=filename+'1.wav'\n",
    "fs, data = wavfile.read(filename1)\n",
    "plt.plot(data)\n",
    "plt.show()"
   ]
  },
  {
   "cell_type": "markdown",
   "id": "bc5eb02b",
   "metadata": {},
   "source": [
    "la mat_audios affiche tous les audios pour la data train"
   ]
  },
  {
   "cell_type": "code",
   "execution_count": null,
   "id": "08435fbc",
   "metadata": {},
   "outputs": [],
   "source": [
    "fm1, data = wavfile.read('train_data/1.wav')\n",
    "mat_audios=np.zeros((48,len(data)))\n",
    "for i in range (0,48):\n",
    "    f='train_data/'+str(i+1)+'.wav'\n",
    "    fs,data=wavfile.read(f)\n",
    "    mat_audios[i,:]=data\n",
    "mat_audios"
   ]
  },
  {
   "cell_type": "markdown",
   "id": "8ca283d8",
   "metadata": {},
   "source": [
    "# partie extraction des features"
   ]
  },
  {
   "cell_type": "code",
   "execution_count": 9,
   "id": "01264e8e",
   "metadata": {},
   "outputs": [],
   "source": [
    "def e(data):\n",
    "    n=len(data)\n",
    "    for i in range(0,len(data)):\n",
    "        E=1/n*abs(np.sum(data[i])**2)\n",
    "    return E\n",
    "#e(data)"
   ]
  },
  {
   "cell_type": "code",
   "execution_count": 10,
   "id": "a149aa73",
   "metadata": {},
   "outputs": [],
   "source": [
    "def zcr(data):\n",
    "    zc = np.sum(np.abs(np.diff(np.sign(data)))) / 2\n",
    "    return zc\n",
    "#print(zcr(data))"
   ]
  },
  {
   "cell_type": "code",
   "execution_count": 11,
   "id": "acd3c71c",
   "metadata": {},
   "outputs": [],
   "source": [
    "def entropie(data):\n",
    "    n_short_blocks=10\n",
    "    data_energy = np.sum(data ** 2)\n",
    "    data_length = len(data)\n",
    "    sub_win_len = int(np.floor(data_length / n_short_blocks))\n",
    "    if data_length != sub_win_len * n_short_blocks:\n",
    "        data = data[0:sub_win_len * n_short_blocks]\n",
    "    sub_wins = data.reshape(sub_win_len, n_short_blocks, order='F').copy()\n",
    "    s = np.sum(sub_wins ** 2, axis=0) / (data_energy)\n",
    "    entropy = -np.sum(s * np.log2(s))\n",
    "    return entropy\n",
    "#print(entropie(data))"
   ]
  },
  {
   "cell_type": "code",
   "execution_count": 12,
   "id": "89bf12a3",
   "metadata": {},
   "outputs": [],
   "source": [
    "def energy(data, windowLength, stepLength):\n",
    "    E_f=[]\n",
    "    for i in range(0,len(data),stepLength):\n",
    "        E_f.append((1/windowLength)*(abs(np.sum(data[i])**2)))\n",
    "    Et=abs(np.sum(E_f))\n",
    "    return E_f\n",
    "#print(energy(data, 200, 200))"
   ]
  },
  {
   "cell_type": "code",
   "execution_count": 13,
   "id": "02b839cd",
   "metadata": {},
   "outputs": [],
   "source": [
    "def Z(data, windowLength, stepLength):\n",
    "    z=[];j=0\n",
    "    for i in range(0, len(data),stepLength):\n",
    "        j=j+stepLength\n",
    "        z.append(np.sum(abs(np.diff(np.sign(data[i:j])))) / 2)\n",
    "    return z\n",
    "#zcr(data,250,250)"
   ]
  },
  {
   "cell_type": "code",
   "execution_count": 14,
   "id": "e726ed99",
   "metadata": {},
   "outputs": [],
   "source": [
    "def energy_entropy(data,windowLength, stepLength):\n",
    "    j=0;sh_win=[]\n",
    "    for i in range(0,len(data), stepLength):\n",
    "        j=j+stepLength\n",
    "        sh_win=(data[i:j])\n",
    "    for i in range(0, len(sh_win),int(stepLength/2)):\n",
    "        j=j+int(stepLength/2)\n",
    "        sub_win=sh_win[i:j]\n",
    "    Esub=energy(sub_win, windowLength, stepLength)\n",
    "    Esh=np.sum(Esub)\n",
    "    s=[]\n",
    "    s.append(np.sum(Esh)/np.sum(Esub))\n",
    "    entropy=[]\n",
    "    for i in range(0,len(s)):\n",
    "        entropy.append(-np.sum(s[i] * np.log2(s[i])))\n",
    "    return entropy\n",
    "#print(energy_entropy(data,250, 250))"
   ]
  },
  {
   "cell_type": "markdown",
   "id": "ec1547a7",
   "metadata": {},
   "source": [
    "la matrice descipteur retourn le résultat de (energie, zcr, la moyenne et la variance)"
   ]
  },
  {
   "cell_type": "code",
   "execution_count": 15,
   "id": "f54c8824",
   "metadata": {},
   "outputs": [
    {
     "data": {
      "text/plain": [
       "array([[ 2.69128114e-03,  4.82800000e+03,  1.00000000e+00,\n",
       "         0.00000000e+00],\n",
       "       [ 3.66666667e-02,  5.18700000e+03,  2.00000000e+00,\n",
       "         0.00000000e+00],\n",
       "       [ 3.98622047e-02,  5.33500000e+03,  1.00000000e+00,\n",
       "         0.00000000e+00],\n",
       "       [ 5.19415680e-02,  5.64300000e+03,  1.00000000e+00,\n",
       "         0.00000000e+00],\n",
       "       [ 1.96603928e-02,  5.36600000e+03,  1.00000000e+00,\n",
       "         0.00000000e+00],\n",
       "       [ 9.96705107e-03,  5.34000000e+03,  2.00000000e+00,\n",
       "         0.00000000e+00],\n",
       "       [ 1.62790698e-02,  5.32500000e+03,  2.00000000e+00,\n",
       "         0.00000000e+00],\n",
       "       [ 4.82857143e-01,  5.23600000e+03,  1.00000000e+00,\n",
       "         0.00000000e+00],\n",
       "       [ 3.71583601e-02,  4.83500000e+03,  1.66200000e+03,\n",
       "         0.00000000e+00],\n",
       "       [ 4.16050296e-03,  5.19500000e+03,  1.00000000e+00,\n",
       "         0.00000000e+00],\n",
       "       [ 2.89262821e-02,  5.22400000e+03, -1.00000000e+00,\n",
       "         0.00000000e+00],\n",
       "       [ 4.76007719e-01,  5.94700000e+03,  2.00000000e+00,\n",
       "         0.00000000e+00],\n",
       "       [ 2.53775168e-01,  4.91500000e+03, -8.00000000e+00,\n",
       "         0.00000000e+00],\n",
       "       [ 2.93685756e-04,  5.64300000e+03,  1.00000000e+00,\n",
       "         0.00000000e+00],\n",
       "       [ 2.98347107e-02,  5.18300000e+03,  3.30000000e+01,\n",
       "         0.00000000e+00],\n",
       "       [ 1.07545563e+00,  5.02900000e+03, -6.00000000e+01,\n",
       "         0.00000000e+00],\n",
       "       [ 7.81250000e-05,  5.63000000e+03,  4.00000000e+00,\n",
       "         0.00000000e+00],\n",
       "       [ 7.95085470e-02,  5.00200000e+03,  1.00000000e+00,\n",
       "         0.00000000e+00],\n",
       "       [ 1.04628165e-02,  4.91200000e+03,  1.16000000e+02,\n",
       "         0.00000000e+00],\n",
       "       [ 3.97082658e-03,  5.05900000e+03,  1.00000000e+00,\n",
       "         0.00000000e+00],\n",
       "       [ 6.53225806e-02,  4.85900000e+03,  2.00000000e+00,\n",
       "         0.00000000e+00],\n",
       "       [ 7.02508961e-02,  4.31700000e+03,  1.00000000e+00,\n",
       "         0.00000000e+00],\n",
       "       [ 1.17482363e-01,  4.87800000e+03,  1.00000000e+00,\n",
       "         0.00000000e+00],\n",
       "       [ 4.02936963e-03,  5.69900000e+03,  1.00000000e+00,\n",
       "         0.00000000e+00],\n",
       "       [ 5.07305195e-02,  4.84900000e+03,  2.00000000e+00,\n",
       "         0.00000000e+00],\n",
       "       [ 4.17962003e-02,  5.20700000e+03,  1.70000000e+01,\n",
       "         0.00000000e+00],\n",
       "       [ 8.93612521e-02,  4.75600000e+03,  1.00000000e+00,\n",
       "         0.00000000e+00],\n",
       "       [ 6.05153146e-01,  4.86800000e+03,  1.00000000e+00,\n",
       "         0.00000000e+00],\n",
       "       [ 3.21157095e-02,  4.16600000e+03, -6.00000000e+00,\n",
       "         0.00000000e+00],\n",
       "       [ 9.04485050e-02,  4.73400000e+03,  1.00000000e+00,\n",
       "         0.00000000e+00],\n",
       "       [ 1.13774272e-01,  5.26400000e+03, -1.00000000e+00,\n",
       "         0.00000000e+00],\n",
       "       [ 5.20317164e-01,  4.39800000e+03,  1.00000000e+00,\n",
       "         0.00000000e+00],\n",
       "       [ 7.41839763e-05,  5.25600000e+03, -1.00000000e+00,\n",
       "         0.00000000e+00],\n",
       "       [ 1.06240032e-01,  5.32200000e+03,  1.00000000e+00,\n",
       "         0.00000000e+00],\n",
       "       [ 1.68739968e-02,  4.95900000e+03,  1.00000000e+00,\n",
       "         0.00000000e+00],\n",
       "       [ 8.85365854e-02,  6.96200000e+03,  2.00000000e+00,\n",
       "         0.00000000e+00],\n",
       "       [ 3.82818826e-01,  4.17100000e+03,  1.00000000e+00,\n",
       "         0.00000000e+00],\n",
       "       [ 3.22483221e-01,  5.22000000e+03,  1.00000000e+00,\n",
       "         0.00000000e+00],\n",
       "       [ 1.65572742e-01,  4.76800000e+03,  4.80000000e+01,\n",
       "         0.00000000e+00],\n",
       "       [ 4.11993769e-02,  5.50100000e+03,  4.50000000e+01,\n",
       "         0.00000000e+00],\n",
       "       [ 6.21916118e-02,  5.23400000e+03,  2.00000000e+01,\n",
       "         0.00000000e+00],\n",
       "       [ 7.77508091e-02,  5.02600000e+03, -1.00000000e+00,\n",
       "         0.00000000e+00],\n",
       "       [ 4.04064685e-02,  3.96800000e+03,  7.00000000e+00,\n",
       "         0.00000000e+00],\n",
       "       [ 4.10504886e-01,  5.05000000e+03, -1.00000000e+00,\n",
       "         0.00000000e+00],\n",
       "       [ 1.16504854e-02,  5.06600000e+03,  1.00000000e+00,\n",
       "         0.00000000e+00],\n",
       "       [ 5.13229927e-03,  4.71000000e+03,  4.10000000e+01,\n",
       "         0.00000000e+00],\n",
       "       [ 4.79201331e-02,  5.31700000e+03,  1.00000000e+00,\n",
       "         0.00000000e+00],\n",
       "       [ 2.69238599e-01,  5.33100000e+03, -1.40000000e+01,\n",
       "         0.00000000e+00]])"
      ]
     },
     "execution_count": 15,
     "metadata": {},
     "output_type": "execute_result"
    }
   ],
   "source": [
    "desc_mat=[]\n",
    "desc_mat=np.zeros((48,4))\n",
    "for i in range(0,48):\n",
    "    filename1= filename+ str(i+1) + '.wav'\n",
    "    fs, data=wavfile.read(filename1)\n",
    "    desc_mat[i][0]=e(data)\n",
    "    desc_mat[i][1]=zcr(data)\n",
    "    desc_mat[i][2]=np.mean(data[i])\n",
    "    desc_mat[i][3]=np.var(data[i])\n",
    "desc_mat  "
   ]
  },
  {
   "cell_type": "markdown",
   "id": "fa8de1fa",
   "metadata": {},
   "source": [
    "# partie de cassification "
   ]
  },
  {
   "cell_type": "markdown",
   "id": "e516e985",
   "metadata": {},
   "source": [
    "fonction stocker_train retourn mat_tr qui contient  features (energie, zcr, entropy) pour chaque audio de notre data train"
   ]
  },
  {
   "cell_type": "code",
   "execution_count": 17,
   "id": "a8ec3736",
   "metadata": {},
   "outputs": [],
   "source": [
    "def stocker_train(filename):\n",
    "    mat_tr=np.zeros((48,3))\n",
    "    for i in range(0,48):\n",
    "        filename1= filename+ str(i+1) + '.wav'\n",
    "        fs, data=wavfile.read(filename1)\n",
    "        mat_tr[i,0]= e(data)\n",
    "        mat_tr[i,1]= zcr(data)\n",
    "        mat_tr[i,2]= entropie(data)\n",
    "    return mat_tr\n",
    "#print(stocker_train(filename))"
   ]
  },
  {
   "cell_type": "markdown",
   "id": "624145bf",
   "metadata": {},
   "source": [
    "fonction stocker_test retourn mat_tst qui contient les features (energie, zcr, entropy) pour chaque audio de notre data test"
   ]
  },
  {
   "cell_type": "code",
   "execution_count": 36,
   "id": "6e043e9a",
   "metadata": {},
   "outputs": [],
   "source": [
    "filename_tst='test_data/'"
   ]
  },
  {
   "cell_type": "code",
   "execution_count": 37,
   "id": "7e7d4240",
   "metadata": {},
   "outputs": [],
   "source": [
    "def stocker_test(filename_tst):\n",
    "    filename1=filename_tst+'1.wav'\n",
    "    fs, data=wavfile.read(filename1)\n",
    "    mat_tst=np.zeros((12,3))\n",
    "    for i in range(0,12):\n",
    "        filename2= filename_tst+ str(i+1) + '.wav'\n",
    "        fs, data=wavfile.read(filename2)\n",
    "        mat_tst[i,0]= e(data)\n",
    "        mat_tst[i,1]= zcr(data)\n",
    "        mat_tst[i,2]= entropie(data)\n",
    "    return mat_tst\n",
    "#print(stocker_test(filename_tst))"
   ]
  },
  {
   "cell_type": "code",
   "execution_count": 38,
   "id": "febc245b",
   "metadata": {},
   "outputs": [],
   "source": [
    "matrice_train=stocker_train(filename)\n",
    "matrice_test=stocker_test(filename_tst)"
   ]
  },
  {
   "cell_type": "markdown",
   "id": "a8a25fff",
   "metadata": {},
   "source": [
    "fonction stock_dist return dist_mat entre matrice_train et matrice_test "
   ]
  },
  {
   "cell_type": "code",
   "execution_count": 13,
   "id": "95494a2e",
   "metadata": {},
   "outputs": [],
   "source": [
    "def stocke_dist(mat_train,mat_test):\n",
    "    distance_mat=np.zeros((48,12))\n",
    "    for i in range(0,48):\n",
    "        for j in range(0,12):\n",
    "            distance_mat[i,j] = np.sqrt(np.sum(matrice_train[i]-matrice_test[j])**2)\n",
    "    return distance_mat\n",
    "matrice_distance=stocke_dist(matrice_train, matrice_test)\n",
    "#print(matrice_distance)"
   ]
  },
  {
   "cell_type": "markdown",
   "id": "b2e403f1",
   "metadata": {},
   "source": [
    "trier la matrice "
   ]
  },
  {
   "cell_type": "code",
   "execution_count": 14,
   "id": "58ff22a7",
   "metadata": {},
   "outputs": [
    {
     "data": {
      "text/plain": [
       "array([[ 9, 10,  0,  2,  4,  5,  8,  7, 11,  6,  3,  1],\n",
       "       [ 5,  2,  7, 11,  6,  3, 10,  9,  0,  4,  8,  1],\n",
       "       [ 6, 11,  7,  3,  5,  2, 10,  9,  0,  4,  8,  1],\n",
       "       [ 3,  6, 11,  7,  5,  2, 10,  9,  0,  4,  8,  1],\n",
       "       [ 3,  6, 11,  7,  5,  2, 10,  9,  0,  4,  8,  1],\n",
       "       [ 6, 11,  7,  3,  5,  2, 10,  9,  0,  4,  8,  1],\n",
       "       [ 6, 11,  7,  3,  5,  2, 10,  9,  0,  4,  8,  1],\n",
       "       [ 7, 11,  6,  5,  2,  3, 10,  9,  0,  4,  8,  1],\n",
       "       [ 9, 10,  0,  2,  4,  5,  8,  7, 11,  6,  3,  1],\n",
       "       [ 5,  2,  7, 11,  6,  3, 10,  9,  0,  4,  8,  1],\n",
       "       [ 5,  7, 11,  6,  2,  3, 10,  9,  0,  4,  8,  1],\n",
       "       [ 3,  6, 11,  7,  5,  2, 10,  9,  0,  4,  8,  1],\n",
       "       [10,  9,  2,  0,  5,  7, 11,  6,  4,  8,  3,  1],\n",
       "       [ 3,  6, 11,  7,  5,  2, 10,  9,  0,  4,  8,  1],\n",
       "       [ 5,  2,  7, 11,  6, 10,  3,  9,  0,  4,  8,  1],\n",
       "       [10,  2,  5,  9,  7, 11,  6,  0,  3,  4,  8,  1],\n",
       "       [ 3,  6, 11,  7,  5,  2, 10,  9,  0,  4,  8,  1],\n",
       "       [10,  2,  5,  9,  7, 11,  0,  6,  3,  4,  8,  1],\n",
       "       [10,  9,  2,  0,  5,  7, 11,  4,  6,  8,  3,  1],\n",
       "       [ 2,  5, 10,  7, 11,  6,  9,  0,  3,  4,  8,  1],\n",
       "       [ 9, 10,  0,  2,  5,  4,  8,  7, 11,  6,  3,  1],\n",
       "       [ 8,  4,  1,  0,  9, 10,  2,  5,  7, 11,  6,  3],\n",
       "       [10,  9,  0,  2,  5,  4,  7, 11,  8,  6,  3,  1],\n",
       "       [ 3,  6, 11,  7,  5,  2, 10,  9,  0,  4,  8,  1],\n",
       "       [ 9, 10,  0,  2,  5,  4,  8,  7, 11,  6,  3,  1],\n",
       "       [ 5,  7, 11,  2,  6,  3, 10,  9,  0,  4,  8,  1],\n",
       "       [ 9,  0, 10,  4,  8,  2,  5,  7, 11,  6,  3,  1],\n",
       "       [10,  9,  0,  2,  5,  4,  8,  7, 11,  6,  3,  1],\n",
       "       [ 1,  8,  4,  0,  9, 10,  2,  5,  7, 11,  6,  3],\n",
       "       [ 0,  9, 10,  4,  8,  2,  5,  7, 11,  6,  1,  3],\n",
       "       [ 7, 11,  6,  5,  2,  3, 10,  9,  0,  4,  8,  1],\n",
       "       [ 8,  4,  0,  1,  9, 10,  2,  5,  7, 11,  6,  3],\n",
       "       [ 7, 11,  6,  5,  2,  3, 10,  9,  0,  4,  8,  1],\n",
       "       [ 6, 11,  7,  3,  5,  2, 10,  9,  0,  4,  8,  1],\n",
       "       [10,  2,  9,  5,  0,  7, 11,  6,  4,  3,  8,  1],\n",
       "       [ 3,  6, 11,  7,  5,  2, 10,  9,  0,  4,  8,  1],\n",
       "       [ 1,  8,  4,  0,  9, 10,  2,  5,  7, 11,  6,  3],\n",
       "       [ 5,  7, 11,  6,  2,  3, 10,  9,  0,  4,  8,  1],\n",
       "       [ 9,  0, 10,  4,  8,  2,  5,  7, 11,  6,  3,  1],\n",
       "       [ 3,  6, 11,  7,  5,  2, 10,  9,  0,  4,  8,  1],\n",
       "       [ 7, 11,  6,  5,  2,  3, 10,  9,  0,  4,  8,  1],\n",
       "       [10,  2,  5,  9,  7, 11,  6,  0,  3,  4,  8,  1],\n",
       "       [ 1,  8,  4,  0,  9, 10,  2,  5,  7, 11,  6,  3],\n",
       "       [ 2, 10,  5,  7, 11,  6,  9,  0,  3,  4,  8,  1],\n",
       "       [ 2,  5, 10,  7, 11,  6,  9,  3,  0,  4,  8,  1],\n",
       "       [ 0,  9,  4, 10,  8,  2,  5,  7, 11,  6,  1,  3],\n",
       "       [ 6, 11,  7,  3,  5,  2, 10,  9,  0,  4,  8,  1],\n",
       "       [ 6, 11,  7,  3,  5,  2, 10,  9,  0,  4,  8,  1]], dtype=int64)"
      ]
     },
     "execution_count": 14,
     "metadata": {},
     "output_type": "execute_result"
    }
   ],
   "source": [
    "mat_index=np.argsort(matrice_distance,axis=1)\n",
    "mat_index"
   ]
  },
  {
   "cell_type": "markdown",
   "id": "8f946357",
   "metadata": {},
   "source": [
    "fonction stocke_pert retourn mat_pert qui remplasse les indices des images pertinentes par 1 et 0 sinon"
   ]
  },
  {
   "cell_type": "code",
   "execution_count": 15,
   "id": "8568ecab",
   "metadata": {},
   "outputs": [],
   "source": [
    "def stocke_pert(matrice):\n",
    "    mat_pert=np.zeros((48,12))\n",
    "    nbr_classe=6\n",
    "    k=0\n",
    "    for i in range(nbr_classe):\n",
    "        z1=k\n",
    "        z2=(i+1)*5\n",
    "        classe=matrice[z1:z2,:]\n",
    "        a=classe>=z1\n",
    "        b=classe<z2\n",
    "        mat_pert[z1:z2,:]=a*b\n",
    "        k=k+nbr_classe\n",
    "    return mat_pert"
   ]
  },
  {
   "cell_type": "code",
   "execution_count": 16,
   "id": "7cb74396",
   "metadata": {},
   "outputs": [
    {
     "name": "stdout",
     "output_type": "stream",
     "text": [
      "[[0. 0. 1. 1. 1. 0. 0. 0. 0. 0. 1. 1.]\n",
      " [0. 1. 0. 0. 0. 1. 0. 0. 1. 1. 0. 1.]\n",
      " [0. 0. 0. 1. 0. 1. 0. 0. 1. 1. 0. 1.]\n",
      " [1. 0. 0. 0. 0. 1. 0. 0. 1. 1. 0. 1.]\n",
      " [1. 0. 0. 0. 0. 1. 0. 0. 1. 1. 0. 1.]\n",
      " [0. 0. 0. 0. 0. 0. 0. 0. 0. 0. 0. 0.]\n",
      " [1. 0. 1. 0. 0. 0. 0. 1. 0. 0. 1. 0.]\n",
      " [1. 0. 1. 0. 0. 0. 0. 1. 0. 0. 1. 0.]\n",
      " [1. 0. 0. 0. 0. 0. 1. 1. 0. 1. 0. 0.]\n",
      " [0. 0. 1. 0. 1. 0. 0. 1. 0. 0. 1. 0.]\n",
      " [0. 0. 0. 0. 0. 0. 0. 0. 0. 0. 0. 0.]\n",
      " [0. 0. 0. 0. 0. 0. 0. 0. 0. 0. 0. 0.]\n",
      " [0. 0. 0. 0. 0. 0. 0. 0. 0. 0. 0. 0.]\n",
      " [0. 0. 0. 0. 0. 0. 0. 0. 0. 0. 0. 0.]\n",
      " [0. 0. 0. 0. 0. 0. 0. 0. 0. 0. 0. 0.]\n",
      " [0. 0. 0. 0. 0. 0. 0. 0. 0. 0. 0. 0.]\n",
      " [0. 0. 0. 0. 0. 0. 0. 0. 0. 0. 0. 0.]\n",
      " [0. 0. 0. 0. 0. 0. 0. 0. 0. 0. 0. 0.]\n",
      " [0. 0. 0. 0. 0. 0. 0. 0. 0. 0. 0. 0.]\n",
      " [0. 0. 0. 0. 0. 0. 0. 0. 0. 0. 0. 0.]\n",
      " [0. 0. 0. 0. 0. 0. 0. 0. 0. 0. 0. 0.]\n",
      " [0. 0. 0. 0. 0. 0. 0. 0. 0. 0. 0. 0.]\n",
      " [0. 0. 0. 0. 0. 0. 0. 0. 0. 0. 0. 0.]\n",
      " [0. 0. 0. 0. 0. 0. 0. 0. 0. 0. 0. 0.]\n",
      " [0. 0. 0. 0. 0. 0. 0. 0. 0. 0. 0. 0.]\n",
      " [0. 0. 0. 0. 0. 0. 0. 0. 0. 0. 0. 0.]\n",
      " [0. 0. 0. 0. 0. 0. 0. 0. 0. 0. 0. 0.]\n",
      " [0. 0. 0. 0. 0. 0. 0. 0. 0. 0. 0. 0.]\n",
      " [0. 0. 0. 0. 0. 0. 0. 0. 0. 0. 0. 0.]\n",
      " [0. 0. 0. 0. 0. 0. 0. 0. 0. 0. 0. 0.]\n",
      " [0. 0. 0. 0. 0. 0. 0. 0. 0. 0. 0. 0.]\n",
      " [0. 0. 0. 0. 0. 0. 0. 0. 0. 0. 0. 0.]\n",
      " [0. 0. 0. 0. 0. 0. 0. 0. 0. 0. 0. 0.]\n",
      " [0. 0. 0. 0. 0. 0. 0. 0. 0. 0. 0. 0.]\n",
      " [0. 0. 0. 0. 0. 0. 0. 0. 0. 0. 0. 0.]\n",
      " [0. 0. 0. 0. 0. 0. 0. 0. 0. 0. 0. 0.]\n",
      " [0. 0. 0. 0. 0. 0. 0. 0. 0. 0. 0. 0.]\n",
      " [0. 0. 0. 0. 0. 0. 0. 0. 0. 0. 0. 0.]\n",
      " [0. 0. 0. 0. 0. 0. 0. 0. 0. 0. 0. 0.]\n",
      " [0. 0. 0. 0. 0. 0. 0. 0. 0. 0. 0. 0.]\n",
      " [0. 0. 0. 0. 0. 0. 0. 0. 0. 0. 0. 0.]\n",
      " [0. 0. 0. 0. 0. 0. 0. 0. 0. 0. 0. 0.]\n",
      " [0. 0. 0. 0. 0. 0. 0. 0. 0. 0. 0. 0.]\n",
      " [0. 0. 0. 0. 0. 0. 0. 0. 0. 0. 0. 0.]\n",
      " [0. 0. 0. 0. 0. 0. 0. 0. 0. 0. 0. 0.]\n",
      " [0. 0. 0. 0. 0. 0. 0. 0. 0. 0. 0. 0.]\n",
      " [0. 0. 0. 0. 0. 0. 0. 0. 0. 0. 0. 0.]\n",
      " [0. 0. 0. 0. 0. 0. 0. 0. 0. 0. 0. 0.]]\n"
     ]
    }
   ],
   "source": [
    "matrice_pert=(stocke_pert(mat_index))\n",
    "print(matrice_pert)"
   ]
  },
  {
   "cell_type": "code",
   "execution_count": 17,
   "id": "7e0b45f6",
   "metadata": {},
   "outputs": [],
   "source": [
    "prec=np.zeros((1,len(matrice_pert)))\n",
    "rec=np.zeros((1,len(matrice_pert)))\n",
    "pertinent=np.sum(data)"
   ]
  },
  {
   "cell_type": "markdown",
   "id": "a156decb",
   "metadata": {},
   "source": [
    "appliquons prec et rec sur la matrice_pert"
   ]
  },
  {
   "cell_type": "code",
   "execution_count": 18,
   "id": "a3b66d6d",
   "metadata": {},
   "outputs": [
    {
     "name": "stdout",
     "output_type": "stream",
     "text": [
      "[[5.         5.         5.         5.         5.         4.16666667\n",
      "  4.14285714 4.125      4.11111111 4.1        3.72727273 3.41666667\n",
      "  3.15384615 2.92857143 2.73333333 2.5625     2.41176471 2.27777778\n",
      "  2.15789474 2.05       1.95238095 1.86363636 1.7826087  1.70833333\n",
      "  1.64       1.57692308 1.51851852 1.46428571 1.4137931  1.36666667\n",
      "  1.32258065 1.28125    1.24242424 1.20588235 1.17142857 1.13888889\n",
      "  1.10810811 1.07894737 1.05128205 1.025      1.         0.97619048\n",
      "  0.95348837 0.93181818 0.91111111 0.89130435 0.87234043 0.        ]] \n",
      "\n",
      "[[0.00023715 0.00047429 0.00071144 0.00094859 0.00118573 0.00118573\n",
      "  0.00137545 0.00156517 0.00175489 0.0019446  0.0019446  0.0019446\n",
      "  0.0019446  0.0019446  0.0019446  0.0019446  0.0019446  0.0019446\n",
      "  0.0019446  0.0019446  0.0019446  0.0019446  0.0019446  0.0019446\n",
      "  0.0019446  0.0019446  0.0019446  0.0019446  0.0019446  0.0019446\n",
      "  0.0019446  0.0019446  0.0019446  0.0019446  0.0019446  0.0019446\n",
      "  0.0019446  0.0019446  0.0019446  0.0019446  0.0019446  0.0019446\n",
      "  0.0019446  0.0019446  0.0019446  0.0019446  0.0019446  0.        ]] \n",
      "\n",
      "[5.         5.         5.         5.         5.         4.16666667\n",
      " 4.14285714 4.125      4.11111111 4.1        3.72727273 3.41666667\n",
      " 3.15384615 2.92857143 2.73333333 2.5625     2.41176471 2.27777778\n",
      " 2.15789474 2.05       1.95238095 1.86363636 1.7826087  1.70833333\n",
      " 1.64       1.57692308 1.51851852 1.46428571 1.4137931  1.36666667\n",
      " 1.32258065 1.28125    1.24242424 1.20588235 1.17142857 1.13888889\n",
      " 1.10810811 1.07894737 1.05128205 1.025      1.         0.97619048\n",
      " 0.95348837 0.93181818 0.91111111 0.89130435 0.87234043 0.\n",
      " 4.1       ] \n",
      "\n",
      "[0.00023715 0.00047429 0.00071144 0.00094859 0.00118573 0.00118573\n",
      " 0.00137545 0.00156517 0.00175489 0.0019446  0.0019446  0.0019446\n",
      " 0.0019446  0.0019446  0.0019446  0.0019446  0.0019446  0.0019446\n",
      " 0.0019446  0.0019446  0.0019446  0.0019446  0.0019446  0.0019446\n",
      " 0.0019446  0.0019446  0.0019446  0.0019446  0.0019446  0.0019446\n",
      " 0.0019446  0.0019446  0.0019446  0.0019446  0.0019446  0.0019446\n",
      " 0.0019446  0.0019446  0.0019446  0.0019446  0.0019446  0.0019446\n",
      " 0.0019446  0.0019446  0.0019446  0.0019446  0.0019446  0.\n",
      " 0.0019446 ] \n",
      "\n"
     ]
    }
   ],
   "source": [
    "for i in range(1,len(matrice_pert)):\n",
    "    VP=np.sum(matrice_pert[0:i])\n",
    "    FP=i-VP\n",
    "    FN=pertinent-VP\n",
    "    VN=len(matrice_pert)-1-i-FN\n",
    "    prec[0,i-1]=VP/(VP+FP)\n",
    "    rec[0,i-1] =VP/(VP+FN)\n",
    "print(prec,'\\n')\n",
    "print(rec,'\\n')\n",
    "for i in range(0,len(matrice_pert)):\n",
    "    for j in range(0,len(matrice_pert[0,:])):\n",
    "        if (matrice_pert[i,j]==1):\n",
    "            pr=np.append(prec,prec[0,i])\n",
    "            re=np.append(rec,rec[0,i])\n",
    "#pr=prec[matrice_pert==1]\n",
    "#re=rec[0,matrice_pert==1]\n",
    "print(pr,'\\n')\n",
    "print(re,'\\n')"
   ]
  },
  {
   "cell_type": "markdown",
   "id": "0bf10380",
   "metadata": {},
   "source": [
    "calculons la moyenne "
   ]
  },
  {
   "cell_type": "code",
   "execution_count": 19,
   "id": "c7df3a72",
   "metadata": {},
   "outputs": [
    {
     "name": "stdout",
     "output_type": "stream",
     "text": [
      "[2.277846]\n"
     ]
    }
   ],
   "source": [
    "pr_moy=np.sum(pr)/pr.shape\n",
    "print(pr_moy)"
   ]
  },
  {
   "cell_type": "code",
   "execution_count": null,
   "id": "7828f99c",
   "metadata": {},
   "outputs": [],
   "source": []
  }
 ],
 "metadata": {
  "kernelspec": {
   "display_name": "Python 3 (ipykernel)",
   "language": "python",
   "name": "python3"
  },
  "language_info": {
   "codemirror_mode": {
    "name": "ipython",
    "version": 3
   },
   "file_extension": ".py",
   "mimetype": "text/x-python",
   "name": "python",
   "nbconvert_exporter": "python",
   "pygments_lexer": "ipython3",
   "version": "3.9.7"
  }
 },
 "nbformat": 4,
 "nbformat_minor": 5
}
